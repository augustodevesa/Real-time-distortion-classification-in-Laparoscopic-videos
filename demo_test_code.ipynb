{
 "cells": [
  {
   "cell_type": "code",
   "execution_count": 13,
   "metadata": {},
   "outputs": [],
   "source": [
    "import warnings\n",
    "warnings.simplefilter(action='ignore', category=FutureWarning)\n",
    "\n",
    "import numpy as np\n",
    "import os\n",
    "import pandas as pd\n",
    "from glob import glob\n",
    "import shutil\n",
    "from tqdm import tqdm\n",
    "import cv2\n",
    "from natsort import natsorted\n",
    "\n",
    "from keras_self_attention import SeqSelfAttention\n",
    "from keras.models import load_model\n",
    "from keras.utils import np_utils\n",
    "np.seterr(divide='ignore', invalid='ignore')\n",
    "from utils import noise_feature"
   ]
  },
  {
   "cell_type": "code",
   "execution_count": 14,
   "metadata": {},
   "outputs": [
    {
     "name": "stdout",
     "output_type": "stream",
     "text": [
      "Model: \"sequential_1\"\n",
      "_________________________________________________________________\n",
      "Layer (type)                 Output Shape              Param #   \n",
      "=================================================================\n",
      "conv1d_1 (Conv1D)            (None, 10, 128)           2048      \n",
      "_________________________________________________________________\n",
      "batch_normalization_1 (Batch (None, 10, 128)           512       \n",
      "_________________________________________________________________\n",
      "spatial_dropout1d_1 (Spatial (None, 10, 128)           0         \n",
      "_________________________________________________________________\n",
      "seq_self_attention_1 (SeqSel (None, 10, 128)           8257      \n",
      "_________________________________________________________________\n",
      "lstm_1 (LSTM)                (None, 64)                49408     \n",
      "_________________________________________________________________\n",
      "batch_normalization_2 (Batch (None, 64)                256       \n",
      "_________________________________________________________________\n",
      "dense_1 (Dense)              (None, 128)               8320      \n",
      "_________________________________________________________________\n",
      "dropout_1 (Dropout)          (None, 128)               0         \n",
      "_________________________________________________________________\n",
      "batch_normalization_3 (Batch (None, 128)               512       \n",
      "_________________________________________________________________\n",
      "dense_2 (Dense)              (None, 64)                8256      \n",
      "_________________________________________________________________\n",
      "dropout_2 (Dropout)          (None, 64)                0         \n",
      "_________________________________________________________________\n",
      "batch_normalization_4 (Batch (None, 64)                256       \n",
      "_________________________________________________________________\n",
      "dense_3 (Dense)              (None, 10)                650       \n",
      "=================================================================\n",
      "Total params: 78,475\n",
      "Trainable params: 77,707\n",
      "Non-trainable params: 768\n",
      "_________________________________________________________________\n",
      "None\n"
     ]
    }
   ],
   "source": [
    "model = load_model(\"./model/trained_model.h5\", custom_objects={'SeqSelfAttention': SeqSelfAttention})\n",
    "print(model.summary())"
   ]
  },
  {
   "cell_type": "code",
   "execution_count": 15,
   "metadata": {},
   "outputs": [],
   "source": [
    "inputFolder = ['awgn', 'defocus_blur', 'motion_blur', 'smoke', 'uneven_illum', 'defocus_uneven', 'noise_smoke',               \n",
    "                'noise_smoke_uneven', 'noise_uneven', 'smoke_uneven']\n",
    "labelDict = dict()\n",
    "for count, label in enumerate(inputFolder):\n",
    "    labelDict[label] = count"
   ]
  },
  {
   "cell_type": "code",
   "execution_count": 64,
   "metadata": {
    "scrolled": true
   },
   "outputs": [
    {
     "name": "stdout",
     "output_type": "stream",
     "text": [
      "Detected distortion of video1_1.avi is:  awgn\n",
      "Detected distortion of video2_1.avi is:  defocus_blur\n",
      "Detected distortion of video3_1.avi is:  defocus_blur\n",
      "Detected distortion of video4_1.avi is:  motion_blur\n",
      "Detected distortion of video5_1.avi is:  noise_smoke\n",
      "Detected distortion of video6_1.avi is:  noise_smoke_uneven\n",
      "Detected distortion of video7_1.avi is:  noise_uneven\n",
      "Detected distortion of video8_1.avi is:  smoke\n",
      "Detected distortion of video9_1.avi is:  smoke\n",
      "Detected distortion of video10_1.avi is:  uneven_illum\n",
      "\n",
      "\n",
      "The output video of this demo code is stored in 'demo result' directory\n",
      "\n",
      "\n"
     ]
    }
   ],
   "source": [
    "dataset_location = './demo data'\n",
    "videos = natsorted(os.listdir(dataset_location))\n",
    "\n",
    "extracted_location = './Extracted_demo_data'\n",
    "if not os.path.exists(extracted_location):\n",
    "    os.mkdir(extracted_location)\n",
    "\n",
    "demo_result = './demo result'\n",
    "if not os.path.exists(demo_result):\n",
    "    os.mkdir(demo_result)\n",
    "    \n",
    "sequence_length = 10\n",
    "test_labelname = []\n",
    "y_pred = []\n",
    "\n",
    "\n",
    "sca = np.load('./scale_data.npy',allow_pickle='TRUE')\n",
    "\n",
    "\n",
    "for video in videos:\n",
    "    videoDir = os.path.join(dataset_location, video)\n",
    "    outDir = os.path.join(extracted_location, os.path.splitext(video)[0])\n",
    "    if not os.path.exists(outDir):\n",
    "        os.mkdir(outDir)\n",
    "    os.system('ffmpeg -i \"{}\" -vf \"select=not(mod(n\\,20))\" -vsync vfr {}/%01d.png'.format(videoDir, outDir))\n",
    "\n",
    "    \n",
    "    images = natsorted(glob(os.path.join(outDir, '*.png')))\n",
    "    xListSingleFrame = []\n",
    "    count = 0\n",
    "    for j in range(len(images)):\n",
    "        d = cv2.imread(images[j])\n",
    "        lab = cv2.cvtColor(d, cv2.COLOR_BGR2LAB)\n",
    "        lab_planes = cv2.split(lab)\n",
    "        clahe = cv2.createCLAHE(clipLimit=5.0)\n",
    "        lab_planes[0] = clahe.apply(lab_planes[0])\n",
    "        lab = cv2.merge(lab_planes)\n",
    "        d = cv2.cvtColor(lab, cv2.COLOR_LAB2BGR)\n",
    "        d = cv2.resize(d, (128,128))\n",
    "        \n",
    "        xListSingleFrame.append(noise_feature(d))\n",
    "\n",
    "        del(d)\n",
    "        if (count+1) == sequence_length:\n",
    "            x_test= np.asarray(xListSingleFrame)[None]\n",
    "            for k in range(x_test.shape[-1]):\n",
    "                minV, maxV = sca[k]\n",
    "                xx = x_test[:,:,k]\n",
    "                xx[xx>maxV] = maxV\n",
    "                xx[xx<minV] = minV\n",
    "                x_test[:,:,k] = xx\n",
    "                x_test[:,:,k] = (x_test[:,:,k] - minV)/(maxV-minV)\n",
    "            text = list(labelDict.keys())[model.predict(x_test).argmax(axis = 1)[0]]\n",
    "            demo_video_name = os.path.join(demo_result,'demo_result_of_' + video)\n",
    "            if os.path.exists(demo_video_name):\n",
    "                os.remove(demo_video_name)\n",
    "            os.system('ffmpeg -i \"{}\" -filter_complex drawtext=text=\"{}\":fontcolor=white:fontsize=30:x=(w-text_w)/2:box=1:boxcolor=black -codec:a copy \"{}\"'.format(videoDir, text, demo_video_name))\n",
    "            print('Detected distortion of', video,'is: ',text)\n",
    "            y_pred.append(list(labelDict.keys())[model.predict(x_test).argmax(axis = 1)[0]])\n",
    "            test_labelname.append(video)\n",
    "            break\n",
    "        count += 1\n",
    "shutil.rmtree(extracted_location)\n",
    "\n",
    "print(\"\"\"\n",
    "\n",
    "The output video of this demo code is stored in 'demo result' directory\n",
    "\n",
    "\"\"\")"
   ]
  }
 ],
 "metadata": {
  "kernelspec": {
   "display_name": "Python 3",
   "language": "python",
   "name": "python3"
  },
  "language_info": {
   "codemirror_mode": {
    "name": "ipython",
    "version": 3
   },
   "file_extension": ".py",
   "mimetype": "text/x-python",
   "name": "python",
   "nbconvert_exporter": "python",
   "pygments_lexer": "ipython3",
   "version": "3.7.7"
  }
 },
 "nbformat": 4,
 "nbformat_minor": 4
}
